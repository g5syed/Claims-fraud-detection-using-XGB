{
 "cells": [
  {
   "cell_type": "markdown",
   "metadata": {
    "id": "LU-OxMDkC5Wk"
   },
   "source": [
    "### IMPORTING LIBRARIES, DATA"
   ]
  },
  {
   "cell_type": "code",
   "execution_count": 1,
   "metadata": {
    "id": "ZyjNtD-M-c3W"
   },
   "outputs": [],
   "source": [
    "# Importing required libraries\n",
    "import numpy as np\n",
    "import pandas as pd\n",
    "import matplotlib.pyplot as plt\n",
    "import seaborn as sns\n",
    "from sklearn.preprocessing import LabelEncoder, OneHotEncoder\n",
    "from sklearn.model_selection import GridSearchCV\n",
    "from xgboost import XGBRegressor\n",
    "import xgboost as xgb\n",
    "\n",
    "from sklearn.model_selection import train_test_split\n",
    "from sklearn.metrics import mean_absolute_error, r2_score\n",
    "import joblib"
   ]
  },
  {
   "cell_type": "code",
   "execution_count": 2,
   "metadata": {
    "colab": {
     "base_uri": "https://localhost:8080/",
     "height": 221
    },
    "id": "LDxqj7bt-w7w",
    "outputId": "7b5a78df-7683-4634-8e9a-e9feb54dce30"
   },
   "outputs": [
    {
     "name": "stdout",
     "output_type": "stream",
     "text": [
      "(20516, 11)\n"
     ]
    },
    {
     "data": {
      "text/html": [
       "<div>\n",
       "<style scoped>\n",
       "    .dataframe tbody tr th:only-of-type {\n",
       "        vertical-align: middle;\n",
       "    }\n",
       "\n",
       "    .dataframe tbody tr th {\n",
       "        vertical-align: top;\n",
       "    }\n",
       "\n",
       "    .dataframe thead th {\n",
       "        text-align: right;\n",
       "    }\n",
       "</style>\n",
       "<table border=\"1\" class=\"dataframe\">\n",
       "  <thead>\n",
       "    <tr style=\"text-align: right;\">\n",
       "      <th></th>\n",
       "      <th>country</th>\n",
       "      <th>insurance_group</th>\n",
       "      <th>s2model</th>\n",
       "      <th>gwp_from</th>\n",
       "      <th>acc_month</th>\n",
       "      <th>rep_date</th>\n",
       "      <th>paid</th>\n",
       "      <th>reserved</th>\n",
       "      <th>incurred</th>\n",
       "      <th>claim_count</th>\n",
       "      <th>state</th>\n",
       "    </tr>\n",
       "  </thead>\n",
       "  <tbody>\n",
       "    <tr>\n",
       "      <th>0</th>\n",
       "      <td>DE</td>\n",
       "      <td>Household</td>\n",
       "      <td>prop</td>\n",
       "      <td>2018-02-28</td>\n",
       "      <td>2018-02-28</td>\n",
       "      <td>2018-02-28</td>\n",
       "      <td>0.0</td>\n",
       "      <td>2000.00</td>\n",
       "      <td>2000.00</td>\n",
       "      <td>1</td>\n",
       "      <td>IN PROGRESS</td>\n",
       "    </tr>\n",
       "    <tr>\n",
       "      <th>1</th>\n",
       "      <td>DE</td>\n",
       "      <td>Household</td>\n",
       "      <td>prop</td>\n",
       "      <td>2018-02-28</td>\n",
       "      <td>2018-02-28</td>\n",
       "      <td>2018-03-31</td>\n",
       "      <td>0.0</td>\n",
       "      <td>2000.00</td>\n",
       "      <td>2000.00</td>\n",
       "      <td>1</td>\n",
       "      <td>IN PROGRESS</td>\n",
       "    </tr>\n",
       "    <tr>\n",
       "      <th>2</th>\n",
       "      <td>DE</td>\n",
       "      <td>Household</td>\n",
       "      <td>prop</td>\n",
       "      <td>2018-02-28</td>\n",
       "      <td>2018-02-28</td>\n",
       "      <td>2018-04-30</td>\n",
       "      <td>0.0</td>\n",
       "      <td>2386.75</td>\n",
       "      <td>2386.75</td>\n",
       "      <td>1</td>\n",
       "      <td>IN PROGRESS</td>\n",
       "    </tr>\n",
       "    <tr>\n",
       "      <th>3</th>\n",
       "      <td>DE</td>\n",
       "      <td>Household</td>\n",
       "      <td>prop</td>\n",
       "      <td>2018-02-28</td>\n",
       "      <td>2018-02-28</td>\n",
       "      <td>2018-05-31</td>\n",
       "      <td>0.0</td>\n",
       "      <td>2386.75</td>\n",
       "      <td>2386.75</td>\n",
       "      <td>1</td>\n",
       "      <td>IN PROGRESS</td>\n",
       "    </tr>\n",
       "    <tr>\n",
       "      <th>4</th>\n",
       "      <td>DE</td>\n",
       "      <td>Household</td>\n",
       "      <td>prop</td>\n",
       "      <td>2018-02-28</td>\n",
       "      <td>2018-02-28</td>\n",
       "      <td>2018-06-30</td>\n",
       "      <td>0.0</td>\n",
       "      <td>2386.75</td>\n",
       "      <td>2386.75</td>\n",
       "      <td>1</td>\n",
       "      <td>IN PROGRESS</td>\n",
       "    </tr>\n",
       "  </tbody>\n",
       "</table>\n",
       "</div>"
      ],
      "text/plain": [
       "  country insurance_group s2model  ... incurred claim_count        state\n",
       "0      DE       Household    prop  ...  2000.00           1  IN PROGRESS\n",
       "1      DE       Household    prop  ...  2000.00           1  IN PROGRESS\n",
       "2      DE       Household    prop  ...  2386.75           1  IN PROGRESS\n",
       "3      DE       Household    prop  ...  2386.75           1  IN PROGRESS\n",
       "4      DE       Household    prop  ...  2386.75           1  IN PROGRESS\n",
       "\n",
       "[5 rows x 11 columns]"
      ]
     },
     "execution_count": 2,
     "metadata": {
      "tags": []
     },
     "output_type": "execute_result"
    }
   ],
   "source": [
    "# Loading Dataset\n",
    "df = pd.read_csv('/content/claims_copy.csv', skiprows=0, parse_dates=['gwp_from','acc_month', 'rep_date'])\n",
    "date = df['gwp_from']\n",
    "print(df.shape)\n",
    "df.head()"
   ]
  },
  {
   "cell_type": "markdown",
   "metadata": {
    "id": "Y5yX1xhdC_QM"
   },
   "source": [
    "### HEATMAP"
   ]
  },
  {
   "cell_type": "code",
   "execution_count": 3,
   "metadata": {
    "colab": {
     "base_uri": "https://localhost:8080/",
     "height": 294
    },
    "id": "UBdlCvaq_b9S",
    "outputId": "1262e81b-c45b-4c90-fa45-ae1730433f82"
   },
   "outputs": [
    {
     "data": {
      "text/plain": [
       "<matplotlib.axes._subplots.AxesSubplot at 0x7fa0744fe590>"
      ]
     },
     "execution_count": 3,
     "metadata": {
      "tags": []
     },
     "output_type": "execute_result"
    },
    {
     "data": {
      "image/png": "[encoded data removed]",
      "text/plain": [
       "<Figure size 432x288 with 2 Axes>"
      ]
     },
     "metadata": {
      "needs_background": "light",
      "tags": []
     },
     "output_type": "display_data"
    }
   ],
   "source": [
    "corr = df.corr()\n",
    "\n",
    "# Draw the heatmap\n",
    "sns.heatmap(corr, center=0,\n",
    "            square=True, linewidths=.5, cbar_kws={\"shrink\": .5})"
   ]
  },
  {
   "cell_type": "markdown",
   "metadata": {
    "id": "kvJYFmoqDJoE"
   },
   "source": [
    "### PREPROCESSING"
   ]
  },
  {
   "cell_type": "code",
   "execution_count": 4,
   "metadata": {
    "colab": {
     "base_uri": "https://localhost:8080/",
     "height": 207
    },
    "id": "YMWQ8nIK-1or",
    "outputId": "670216c4-085e-4459-c624-e5dedf8f7152"
   },
   "outputs": [
    {
     "name": "stdout",
     "output_type": "stream",
     "text": [
      "Your selected dataframe has 11 columns.\n",
      "There are 4 columns that have missing values.\n"
     ]
    },
    {
     "data": {
      "text/html": [
       "<div>\n",
       "<style scoped>\n",
       "    .dataframe tbody tr th:only-of-type {\n",
       "        vertical-align: middle;\n",
       "    }\n",
       "\n",
       "    .dataframe tbody tr th {\n",
       "        vertical-align: top;\n",
       "    }\n",
       "\n",
       "    .dataframe thead th {\n",
       "        text-align: right;\n",
       "    }\n",
       "</style>\n",
       "<table border=\"1\" class=\"dataframe\">\n",
       "  <thead>\n",
       "    <tr style=\"text-align: right;\">\n",
       "      <th></th>\n",
       "      <th>Missing Values</th>\n",
       "      <th>% of Total Values</th>\n",
       "    </tr>\n",
       "  </thead>\n",
       "  <tbody>\n",
       "    <tr>\n",
       "      <th>gwp_from</th>\n",
       "      <td>851</td>\n",
       "      <td>4.1</td>\n",
       "    </tr>\n",
       "    <tr>\n",
       "      <th>country</th>\n",
       "      <td>96</td>\n",
       "      <td>0.5</td>\n",
       "    </tr>\n",
       "    <tr>\n",
       "      <th>insurance_group</th>\n",
       "      <td>96</td>\n",
       "      <td>0.5</td>\n",
       "    </tr>\n",
       "    <tr>\n",
       "      <th>s2model</th>\n",
       "      <td>96</td>\n",
       "      <td>0.5</td>\n",
       "    </tr>\n",
       "  </tbody>\n",
       "</table>\n",
       "</div>"
      ],
      "text/plain": [
       "                 Missing Values  % of Total Values\n",
       "gwp_from                    851                4.1\n",
       "country                      96                0.5\n",
       "insurance_group              96                0.5\n",
       "s2model                      96                0.5"
      ]
     },
     "execution_count": 4,
     "metadata": {
      "tags": []
     },
     "output_type": "execute_result"
    }
   ],
   "source": [
    "#Checking missing values\n",
    "def missing_values_table(df):\n",
    "        # Total missing values\n",
    "        mis_val = df.isnull().sum()\n",
    "        \n",
    "        # Percentage of missing values\n",
    "        mis_val_percent = 100 * df.isnull().sum() / len(df)\n",
    "        \n",
    "        # Make a table with the results\n",
    "        mis_val_table = pd.concat([mis_val, mis_val_percent], axis=1)\n",
    "        \n",
    "        # Rename the columns\n",
    "        mis_val_table_ren_columns = mis_val_table.rename(\n",
    "        columns = {0 : 'Missing Values', 1 : '% of Total Values'})\n",
    "        \n",
    "        # Sort the table by percentage of missing descending\n",
    "        mis_val_table_ren_columns = mis_val_table_ren_columns[\n",
    "            mis_val_table_ren_columns.iloc[:,1] != 0].sort_values(\n",
    "        '% of Total Values', ascending=False).round(1)\n",
    "        \n",
    "        # Print some summary information\n",
    "        print (\"Your selected dataframe has \" + str(df.shape[1]) + \" columns.\\n\"      \n",
    "            \"There are \" + str(mis_val_table_ren_columns.shape[0]) +\n",
    "              \" columns that have missing values.\")\n",
    "        \n",
    "        # Return the dataframe with missing information\n",
    "        return mis_val_table_ren_columns\n",
    "# Missing values statistics\n",
    "missing_values = missing_values_table(df)\n",
    "missing_values"
   ]
  },
  {
   "cell_type": "code",
   "execution_count": 5,
   "metadata": {
    "id": "dq-Cg8WK_Cjp"
   },
   "outputs": [],
   "source": [
    "# This will turn all of the string value into category values\n",
    "for label, content in df.items():\n",
    "    if pd.api.types.is_string_dtype(content):\n",
    "        df[label] = content.astype(\"category\").cat.as_ordered()"
   ]
  },
  {
   "cell_type": "code",
   "execution_count": 6,
   "metadata": {
    "colab": {
     "base_uri": "https://localhost:8080/"
    },
    "id": "68a98_8R_HdN",
    "outputId": "5e3e58fa-3707-4717-8b82-917b6efa3900"
   },
   "outputs": [
    {
     "name": "stdout",
     "output_type": "stream",
     "text": [
      "country\n",
      "insurance_group\n",
      "s2model\n",
      "gwp_from\n",
      "acc_month\n",
      "rep_date\n",
      "state\n"
     ]
    }
   ],
   "source": [
    "# converting Category Columns to numeric\n",
    "labelencoder = LabelEncoder()\n",
    "\n",
    "for label, content in df.items():\n",
    "    if not pd.api.types.is_numeric_dtype(content):\n",
    "        print(label)\n",
    "        # Encoding\n",
    "        df[label] = labelencoder.fit_transform(df[label].astype(str))"
   ]
  },
  {
   "cell_type": "markdown",
   "metadata": {
    "id": "OdXvRqoIDU_x"
   },
   "source": [
    "### GETTING DATA READY TO TRAIN ON A MODEL"
   ]
  },
  {
   "cell_type": "code",
   "execution_count": 7,
   "metadata": {
    "id": "utpn2at-_LGj"
   },
   "outputs": [],
   "source": [
    "# Splitting in X and y\n",
    "X = df.drop(['country',\t'insurance_group', 's2model',\t'gwp_from',\t'acc_month',\t'rep_date','state', 'incurred'], axis=1)\n",
    "y = df['incurred']"
   ]
  },
  {
   "cell_type": "code",
   "execution_count": 22,
   "metadata": {
    "id": "FKkojJteAqC_"
   },
   "outputs": [],
   "source": [
    "# Spliting into training and test data\n",
    "X_train, X_test, y_train, y_test = train_test_split(X.values, y.values, test_size =0.4)\n",
    "X_train_date, X_test_date= train_test_split(date, test_size =0.4, shuffle=False)"
   ]
  },
  {
   "cell_type": "markdown",
   "metadata": {
    "id": "drWLEn5UDaJr"
   },
   "source": [
    "### TRAINING AN XGBOOST"
   ]
  },
  {
   "cell_type": "code",
   "execution_count": 23,
   "metadata": {
    "id": "VphfBoHLCd-i"
   },
   "outputs": [],
   "source": [
    "best_model = XGBRegressor(colsample_bytree= 0.7,\n",
    "                           learning_rate= 0.003,\n",
    "                            max_depth= 5,\n",
    "                            min_child_weight= 4,\n",
    "                           n_estimators= 1000,\n",
    "                           nthread=4,\n",
    "                           objective= 'reg:linear',\n",
    "                           silent= 1,\n",
    "                           subsample= 0.7)\n",
    "model = best_model.fit(X_train, y_train)"
   ]
  },
  {
   "cell_type": "code",
   "execution_count": 24,
   "metadata": {
    "colab": {
     "base_uri": "https://localhost:8080/",
     "height": 350
    },
    "id": "jReg2E-JNm7R",
    "outputId": "5113b8eb-acc1-4137-b1d9-405732a0c27a"
   },
   "outputs": [
    {
     "data": {
      "image/png": "[encoded data removed]",
      "text/plain": [
       "<Figure size 360x360 with 1 Axes>"
      ]
     },
     "metadata": {
      "needs_background": "light",
      "tags": []
     },
     "output_type": "display_data"
    }
   ],
   "source": [
    "xgb.plot_importance(model)\n",
    "plt.rcParams['figure.figsize'] = [5, 5]\n",
    "plt.show()"
   ]
  },
  {
   "cell_type": "code",
   "execution_count": 25,
   "metadata": {
    "colab": {
     "base_uri": "https://localhost:8080/"
    },
    "id": "aEEOYXQMEA6O",
    "outputId": "94a242cd-8f97-4867-a2bb-c20195ad0a52"
   },
   "outputs": [
    {
     "data": {
      "text/plain": [
       "0.9964564964824894"
      ]
     },
     "execution_count": 25,
     "metadata": {
      "tags": []
     },
     "output_type": "execute_result"
    }
   ],
   "source": [
    "model.score(X_test, y_test)"
   ]
  },
  {
   "cell_type": "code",
   "execution_count": 26,
   "metadata": {
    "colab": {
     "base_uri": "https://localhost:8080/"
    },
    "id": "Ri94jabvChco",
    "outputId": "d94d1030-3f41-4a15-b87d-b65b1288c587"
   },
   "outputs": [
    {
     "name": "stdout",
     "output_type": "stream",
     "text": [
      "{'Training Mean Absolute Error': 338.0313496813587, 'Test Mean Absolute Error': 526.5231550976499, 'Training R^2 score': 0.9993234136969923, 'Test data R^2 score': 0.9964564964824895}\n"
     ]
    }
   ],
   "source": [
    "# Creating function to evaluate model on a few different levels\n",
    "def show_scores(model):\n",
    "    train_preds = model.predict(X_train)\n",
    "    test_preds = model.predict(X_test)\n",
    "    scores = {\"Training Mean Absolute Error\": mean_absolute_error(y_train, train_preds),\n",
    "              \"Test Mean Absolute Error\": mean_absolute_error(y_test, test_preds),\n",
    "              \"Training R^2 score\": r2_score(y_train, train_preds),\n",
    "              \"Test data R^2 score\": r2_score(y_test, test_preds)}\n",
    "    return scores\n",
    "# Evaluating our model\n",
    "print(show_scores(model))"
   ]
  },
  {
   "cell_type": "markdown",
   "metadata": {
    "id": "HUpSphtbGV1c"
   },
   "source": [
    "## SAVING MODEL"
   ]
  },
  {
   "cell_type": "code",
   "execution_count": 28,
   "metadata": {
    "id": "ILt4bGjoGVnz"
   },
   "outputs": [],
   "source": [
    "# save the model to disk\n",
    "import pickle\n",
    "\n",
    "filename = 'finalized_model.sav'\n",
    "\n",
    "# Uncomment the following line to save model on your local system\n",
    "#pickle.dump(best_model, open(filename, 'wb'))"
   ]
  },
  {
   "cell_type": "markdown",
   "metadata": {
    "id": "a06o9aZeQ4h0"
   },
   "source": [
    "## LOADING THE SAVED MODEL"
   ]
  },
  {
   "cell_type": "code",
   "execution_count": 29,
   "metadata": {
    "id": "yYs1QGq_Q3PA"
   },
   "outputs": [],
   "source": [
    "model = pickle.load(open(\"finalized_model.sav\", \"rb\"))"
   ]
  },
  {
   "cell_type": "markdown",
   "metadata": {
    "id": "8wql9VtWDeA_"
   },
   "source": [
    "### PREDICTING USING TRAINED MODEL"
   ]
  },
  {
   "cell_type": "code",
   "execution_count": 30,
   "metadata": {
    "id": "ArcGC1UTCkw2"
   },
   "outputs": [],
   "source": [
    "# Predictions\n",
    "preds = best_model.predict(X_test)"
   ]
  },
  {
   "cell_type": "code",
   "execution_count": 31,
   "metadata": {
    "id": "xXTqN8XbRlmc"
   },
   "outputs": [],
   "source": [
    "cols_when_model_builds = model.get_booster().feature_names"
   ]
  },
  {
   "cell_type": "code",
   "execution_count": 32,
   "metadata": {
    "colab": {
     "base_uri": "https://localhost:8080/"
    },
    "id": "aKmT69k3SMg-",
    "outputId": "b094bc92-0bfe-4111-de39-763177ee9511"
   },
   "outputs": [
    {
     "name": "stdout",
     "output_type": "stream",
     "text": [
      "['f0', 'f1', 'f2']\n"
     ]
    }
   ],
   "source": [
    "print(cols_when_model_builds)"
   ]
  },
  {
   "cell_type": "code",
   "execution_count": 33,
   "metadata": {
    "colab": {
     "base_uri": "https://localhost:8080/",
     "height": 619
    },
    "id": "YuxSHglYIQiB",
    "outputId": "06f817cd-1358-47a1-b470-a35eb7799ffe"
   },
   "outputs": [
    {
     "data": {
      "image/png": "[encoded data removed]",
      "text/plain": [
       "<Figure size 720x720 with 1 Axes>"
      ]
     },
     "metadata": {
      "needs_background": "light",
      "tags": []
     },
     "output_type": "display_data"
    }
   ],
   "source": [
    "\n",
    "plt.figure(figsize=(10,10))\n",
    "plt.scatter(y_test, preds, c='crimson')\n",
    "plt.yscale('log')\n",
    "plt.xscale('log')\n",
    "\n",
    "p1 = max(max(preds), max(y_test))\n",
    "p2 = min(min(preds), min(y_test))\n",
    "plt.plot([p1, p2], [p1, p2], 'b-')\n",
    "plt.xlabel('True Values', fontsize=15)\n",
    "plt.ylabel('Predictions', fontsize=15)\n",
    "plt.axis('equal')\n",
    "plt.show()"
   ]
  },
  {
   "cell_type": "code",
   "execution_count": 35,
   "metadata": {
    "colab": {
     "base_uri": "https://localhost:8080/"
    },
    "id": "6WC4QcxdNhHM",
    "outputId": "a1adb81a-24cb-4595-9515-19aa8062e385"
   },
   "outputs": [
    {
     "name": "stdout",
     "output_type": "stream",
     "text": [
      "[14975.162]\n"
     ]
    }
   ],
   "source": [
    "mydata = [15000,1,0]\n",
    "\n",
    "prediction = model.predict(mydata)\n",
    "print(prediction)"
   ]
  },
  {
   "cell_type": "code",
   "execution_count": null,
   "metadata": {
    "id": "TwuPy8_ZPDP7"
   },
   "outputs": [],
   "source": []
  }
 ],
 "metadata": {
  "colab": {
   "name": "final.ipynb",
   "provenance": []
  },
  "kernelspec": {
   "display_name": "Python 3 (ipykernel)",
   "language": "python",
   "name": "python3"
  },
  "language_info": {
   "codemirror_mode": {
    "name": "ipython",
    "version": 3
   },
   "file_extension": ".py",
   "mimetype": "text/x-python",
   "name": "python",
   "nbconvert_exporter": "python",
   "pygments_lexer": "ipython3",
   "version": "3.8.10"
  }
 },
 "nbformat": 4,
 "nbformat_minor": 1
}
